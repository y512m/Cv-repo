{
 "cells": [
  {
   "cell_type": "code",
   "execution_count": 1,
   "id": "8622cd00-6247-448e-984b-963c8f3512b3",
   "metadata": {},
   "outputs": [],
   "source": [
    "import cv2 as cv \n",
    "import numpy as np"
   ]
  },
  {
   "cell_type": "code",
   "execution_count": 2,
   "id": "9ae25f70-ebf3-4ba0-a3f8-2189ae5e6b82",
   "metadata": {},
   "outputs": [],
   "source": [
    "img = cv.imread('car.jpg')\n",
    "cv.imshow('image' , img)\n",
    "cv.waitKey(0)\n",
    "cv.destroyAllWindows()"
   ]
  },
  {
   "cell_type": "code",
   "execution_count": 13,
   "id": "ace03f05-5217-4e51-bbcc-a4baa3d1b4c4",
   "metadata": {},
   "outputs": [],
   "source": [
    "import cv2 as cv\n",
    "\n",
    "# Reading video\n",
    "capture = cv.VideoCapture('car video.mp4')  #\n",
    "while True:\n",
    "    isTrue, frame = capture.read()  # Corrected variable name from 'fream' and 'caputre' isTrue (varible)\n",
    "\n",
    "    if isTrue:\n",
    "        cv.imshow('Video', frame)  \n",
    "        if cv.waitKey(20) & 0xFF == ord('d'): # press d to stop and out\n",
    "            break\n",
    "    else:\n",
    "        break\n",
    "\n",
    "capture.release()\n",
    "cv.destroyAllWindows()\n"
   ]
  },
  {
   "cell_type": "markdown",
   "id": "1bbefa91-d2eb-4556-b839-0e2d0e557329",
   "metadata": {},
   "source": [
    "# **Web cam live** "
   ]
  },
  {
   "cell_type": "code",
   "execution_count": 18,
   "id": "3c492ba1-895e-4f38-adde-64ea3c0b6e69",
   "metadata": {},
   "outputs": [],
   "source": [
    "capture = cv.VideoCapture(0)\n",
    "while True:\n",
    "    isTrue ,fream = capture.read()\n",
    "\n",
    "    cv.imshow('camera', fream )\n",
    "    if cv.waitKey(20) & 0xFF == ord('x'):\n",
    "        break \n",
    "capture.release()\n",
    "cv.destroyAllWindows()\n"
   ]
  },
  {
   "cell_type": "markdown",
   "id": "98801fae-efde-4f41-ac0f-a1713b2daef4",
   "metadata": {},
   "source": [
    "# Resizing"
   ]
  },
  {
   "cell_type": "code",
   "execution_count": 4,
   "id": "7f9c5137-7e11-4075-883e-b4ad8e88dd21",
   "metadata": {},
   "outputs": [
    {
     "name": "stdout",
     "output_type": "stream",
     "text": [
      "(3376, 6000, 3)\n"
     ]
    },
    {
     "ename": "TypeError",
     "evalue": "'tuple' object is not callable",
     "output_type": "error",
     "traceback": [
      "\u001b[1;31m---------------------------------------------------------------------------\u001b[0m",
      "\u001b[1;31mTypeError\u001b[0m                                 Traceback (most recent call last)",
      "Cell \u001b[1;32mIn[4], line 5\u001b[0m\n\u001b[0;32m      2\u001b[0m \u001b[38;5;28mprint\u001b[39m (img\u001b[38;5;241m.\u001b[39mshape)\n\u001b[0;32m      3\u001b[0m img_resized \u001b[38;5;241m=\u001b[39m cv\u001b[38;5;241m.\u001b[39mresize(img , (\u001b[38;5;241m500\u001b[39m,\u001b[38;5;241m500\u001b[39m) , interpolation\u001b[38;5;241m=\u001b[39mcv\u001b[38;5;241m.\u001b[39mINTER_CUBIC) \u001b[38;5;66;03m# resize (soursr, (x,y)  ,for the qulity and math \u001b[39;00m\n\u001b[1;32m----> 5\u001b[0m cv\u001b[38;5;241m.\u001b[39mimshow(\u001b[38;5;124m'\u001b[39m\u001b[38;5;124mimage\u001b[39m\u001b[38;5;124m'\u001b[39m , img)\n\u001b[0;32m      6\u001b[0m cv\u001b[38;5;241m.\u001b[39mimshow(\u001b[38;5;124m'\u001b[39m\u001b[38;5;124mimg\u001b[39m\u001b[38;5;124m'\u001b[39m ,img_resized)\n\u001b[0;32m      7\u001b[0m cv\u001b[38;5;241m.\u001b[39mwaitKey(\u001b[38;5;241m0\u001b[39m)\n",
      "\u001b[1;31mTypeError\u001b[0m: 'tuple' object is not callable"
     ]
    }
   ],
   "source": [
    "img = cv.imread('car.jpg')\n",
    "print (img.shape)\n",
    "img_resized = cv.resize(img , (500,500) , interpolation=cv.INTER_CUBIC) # resize (soursr, (x,y)  ,for the qulity and math \n",
    "\n",
    "cv.imshow('image' , img)\n",
    "cv.imshow('img' ,img_resized)\n",
    "cv.waitKey(0)\n",
    "cv.destroyAllWindows()"
   ]
  },
  {
   "cell_type": "code",
   "execution_count": 6,
   "id": "990a1d68-7fd0-4010-80cd-8763b8807b9e",
   "metadata": {},
   "outputs": [],
   "source": [
    "'''\n",
    "empty = np.zeros((600, 600, 3), dtype='uint8')\n",
    "empty[:] = 0,0,255\n",
    "cv.imshow =('col ' , empty)\n",
    "cv.waitKey(0) \n",
    "cv.destroyAllWindows()\n",
    "'''"
   ]
  },
  {
   "cell_type": "markdown",
   "id": "5d97be67-51cf-4ff4-8a9e-30e4b9610e0d",
   "metadata": {},
   "source": [
    "# PHASE 1 "
   ]
  },
  {
   "cell_type": "code",
   "execution_count": 21,
   "id": "e3c4341b-980f-42b9-877f-f572b6cbf05b",
   "metadata": {},
   "outputs": [],
   "source": [
    "# ORIGENAL\n",
    "img = cv.imread('car.jpg')\n",
    "img_resized = cv.resize(img , (500,500) , interpolation=cv.INTER_CUBIC) # resize (soursr, (x,y)  ,for the qulity and math \n",
    "\n",
    "cv.imshow('image' , img_resized)\n",
    "cv.waitKey(0)\n",
    "cv.destroyAllWindows()"
   ]
  },
  {
   "cell_type": "code",
   "execution_count": 23,
   "id": "4d5a9d57-905e-4643-a56a-1763ef9e0c0e",
   "metadata": {},
   "outputs": [],
   "source": [
    "# greyscale \n",
    "# import image \n",
    "img = cv.imread('car.jpg')\n",
    "# resize image \n",
    "img_resized = cv.resize(img , (500,500) , interpolation=cv.INTER_CUBIC) # resize (soursr, (x,y)  ,for the qulity and math \n",
    "# make the image in grayscale \n",
    "img_grey = cv.cvtColor(img_resized , cv.COLOR_BGR2GRAY) # cvtColor is an converter for image \n",
    "img_grey = cv.cvtColor(img_resized , cv.COLOR_BGR2GRAY) # cvtColor is an converter for image \n",
    "\n",
    "cv.imshow('image' , img_grey)\n",
    "cv.waitKey(0)\n",
    "cv.destroyAllWindows()"
   ]
  },
  {
   "cell_type": "code",
   "execution_count": null,
   "id": "51ed59ea-dd63-4183-a09d-3cd6d08e2000",
   "metadata": {},
   "outputs": [],
   "source": []
  }
 ],
 "metadata": {
  "kernelspec": {
   "display_name": "Python 3 (ipykernel)",
   "language": "python",
   "name": "python3"
  },
  "language_info": {
   "codemirror_mode": {
    "name": "ipython",
    "version": 3
   },
   "file_extension": ".py",
   "mimetype": "text/x-python",
   "name": "python",
   "nbconvert_exporter": "python",
   "pygments_lexer": "ipython3",
   "version": "3.13.5"
  }
 },
 "nbformat": 4,
 "nbformat_minor": 5
}
